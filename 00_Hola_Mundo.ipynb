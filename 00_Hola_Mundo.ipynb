{
  "nbformat": 4,
  "nbformat_minor": 0,
  "metadata": {
    "colab": {
      "provenance": [],
      "include_colab_link": true
    },
    "kernelspec": {
      "name": "python3",
      "display_name": "Python 3"
    },
    "language_info": {
      "name": "python"
    }
  },
  "cells": [
    {
      "cell_type": "markdown",
      "metadata": {
        "id": "view-in-github",
        "colab_type": "text"
      },
      "source": [
        "<a href=\"https://colab.research.google.com/github/VictorLuna02012003/clases_de_python/blob/main/00_Hola_Mundo.ipynb\" target=\"_parent\"><img src=\"https://colab.research.google.com/assets/colab-badge.svg\" alt=\"Open In Colab\"/></a>"
      ]
    },
    {
      "cell_type": "code",
      "execution_count": null,
      "metadata": {
        "colab": {
          "base_uri": "https://localhost:8080/"
        },
        "id": "wJYd6i2OnMi2",
        "outputId": "0dedb2d0-4bc4-444e-da76-45a5b0bc969d"
      },
      "outputs": [
        {
          "output_type": "stream",
          "name": "stdout",
          "text": [
            "Hola mundo\n"
          ]
        }
      ],
      "source": [
        "print(\"Hola mundo\")"
      ]
    },
    {
      "cell_type": "markdown",
      "source": [
        "<b><h1>primer programa</h1><b/>\n",
        "\n"
      ],
      "metadata": {
        "id": "WyS8jaU0oTZo"
      }
    },
    {
      "cell_type": "code",
      "source": [
        "print(\"Primeramente podemos ver que no necesitamos declarar variables\")\n",
        "n1=int(input(\"Ingresa numero uno: \"))\n",
        "n2=int(input(\"Ingresa el numero dos: \"))\n",
        "suma=n1+n2\n",
        "print(f\"La suma es: {suma}\")\n",
        "suma = \"cambio drastico\"\n",
        "print(f\"La suma es: {suma}\")"
      ],
      "metadata": {
        "id": "uRIcSASHprAF"
      },
      "execution_count": null,
      "outputs": []
    },
    {
      "cell_type": "markdown",
      "source": [
        "<p>Se puede observar que en codigo una variable puede cambiar el tipo de dato\n",
        "</p>"
      ],
      "metadata": {
        "id": "sMt4-lYV_V9L"
      }
    },
    {
      "cell_type": "code",
      "source": [
        "print(\"tambien puedes cambiar el valor de las variables muy drasticamente\")\n",
        "suma = \"Este es un cambio es muy drastico\"\n",
        "print(f\"ahora ya no es un numero, ahora es un texto: {suma}\")"
      ],
      "metadata": {
        "id": "JMi4qQCKr3Xs"
      },
      "execution_count": null,
      "outputs": []
    },
    {
      "cell_type": "code",
      "source": [
        "n1=int(input(\"Ingresa  el 1 valor: \"))\n",
        "n2=int(input(\"Ingresa  el 2 valor: \"))\n",
        "n3=int(input(\"Ingresa  el 3 valor: \"))\n",
        "n4=int(input(\"Ingresa  el 4 valor: \"))\n",
        "n5=int(input(\"Ingresa  el 5 valor: \"))\n",
        "n6=int(input(\"Ingresa  el 6 valor: \"))\n",
        "n7=int(input(\"Ingresa  el 7 valor: \"))\n",
        "n8=int(input(\"Ingresa  el 8 valor: \"))\n",
        "n9=int(input(\"Ingresa  el 9 valor: \"))\n",
        "n10=int(input(\"Ingresa  el 10 valor: \"))\n",
        "suma=(n1+n2+n3+n4+n5+n6+n7+n8+n9+n10)/10\n",
        "print(f\"El resultado es: {suma}\")"
      ],
      "metadata": {
        "id": "k7lqHSfBs2cl"
      },
      "execution_count": null,
      "outputs": []
    }
  ]
}