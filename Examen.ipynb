{
  "nbformat": 4,
  "nbformat_minor": 0,
  "metadata": {
    "colab": {
      "provenance": [],
      "include_colab_link": true
    },
    "kernelspec": {
      "name": "python3",
      "display_name": "Python 3"
    },
    "language_info": {
      "name": "python"
    }
  },
  "cells": [
    {
      "cell_type": "markdown",
      "metadata": {
        "id": "view-in-github",
        "colab_type": "text"
      },
      "source": [
        "<a href=\"https://colab.research.google.com/github/VictorLuna02012003/clases_de_python/blob/main/Examen.ipynb\" target=\"_parent\"><img src=\"https://colab.research.google.com/assets/colab-badge.svg\" alt=\"Open In Colab\"/></a>"
      ]
    },
    {
      "cell_type": "markdown",
      "source": [
        "<h1>Declaramos diccionario y variables</h1>\n",
        "<p>Damos mensaje de bienvenida</p>"
      ],
      "metadata": {
        "id": "tf7v2YNO-w-5"
      }
    },
    {
      "cell_type": "code",
      "source": [
        "datos = {\n",
        "    'name': ' ',\n",
        "    'last_name' : ' ',\n",
        "    'age' : ' ' ,\n",
        "    'race' : ' ',\n",
        "    'selected' : False,\n",
        "}\n",
        "\n",
        "aciertos = 0\n",
        "errores = 0\n",
        "condition = True\n",
        "\n",
        "print('\\tBienvenido a la universidad de oriente Campus Poza Rica')\n",
        "input('\\n\\nPresione una tecla para continuar...')"
      ],
      "metadata": {
        "id": "fKPEacvz-1f_"
      },
      "execution_count": null,
      "outputs": []
    },
    {
      "cell_type": "markdown",
      "source": [
        "<h1>Solicitamos datos y guardamos en las llaves del diccionario</h1>\n",
        "<p>Mensaje de las carreras disponibles<p>"
      ],
      "metadata": {
        "id": "Xy6cUczD-5UI"
      }
    },
    {
      "cell_type": "code",
      "source": [
        "datos['name'] = input('Ingresa tu nombre: ')\n",
        "datos['last_name'] = input('Ingresa tu apellido: ')\n",
        "datos['age'] = int(input('Ingresa tu edad: '))\n",
        "print('Seleccione la carrera que desea cursar: ')\n",
        "\n",
        "print('[1].-Sistemas', '[2].-Quimico', '[3].-Fisico', sep = '\\n') \n",
        "datos['race'] = input('Ingrese el nombre de carrera: ').title() "
      ],
      "metadata": {
        "id": "rkjh-7Vh--7w"
      },
      "execution_count": null,
      "outputs": []
    },
    {
      "cell_type": "markdown",
      "source": [
        "<h1>"
      ],
      "metadata": {
        "id": "kswgnRog_NvZ"
      }
    },
    {
      "cell_type": "markdown",
      "source": [
        "<h1>Verifica la carrera con un condicional</h1>\n",
        "<p>En caso de existir la carrera solicita calificaciones, de lo contrario, la variable condition pasa de true a false</p>"
      ],
      "metadata": {
        "id": "cfB-ehuae4B-"
      }
    },
    {
      "cell_type": "code",
      "source": [
        "if datos['race'] == 'Sistemas' or datos['race'] == 'Quimico' or datos['race'] == 'Fisico':\n",
        "    print('\\nA continuacion se le solicitara sus calificaciones de la preparatoria.')\n",
        "    num_cal = int(input('¿Cuántas calificaciones va escribir? '))\n",
        "    calificaciones = ['_' for i in range(0,num_cal)]\n",
        "    input('Presione una tecla para continuar...')\n",
        "    \n",
        "    for i in range(0,num_cal):\n",
        "        calificaciones[i] = float(input(f'Ingresa tu calificacion {i+1}: '))\n",
        "  \n",
        "    promedio = sum(calificaciones)/num_cal\n",
        "\n",
        "else:\n",
        "    condition = False\n",
        "    print('No se encuentra la carrera seleccionada')"
      ],
      "metadata": {
        "id": "DM1cmkAA_X20"
      },
      "execution_count": null,
      "outputs": []
    },
    {
      "cell_type": "markdown",
      "source": [
        "<h1></h1>"
      ],
      "metadata": {
        "id": "X_iyPHiI_-C-"
      }
    },
    {
      "cell_type": "markdown",
      "source": [
        "<h1>Verificación de la variable condition</h1>\n",
        "\n",
        "\n",
        "*   True: Ejecuta el código y verifica el promedio de las calificaciones ingresadas anteriormente, para saber si continua o es rechazado\n",
        "\n",
        "*  False: No ejecuta el while\n",
        "\n"
      ],
      "metadata": {
        "id": "pPb_BudSgRrI"
      }
    },
    {
      "cell_type": "code",
      "source": [
        "while condition == True:\n",
        "    if promedio < 7 :\n",
        "        print('¿Aprobado?', datos['selected'])\n",
        "        break\n",
        "\n",
        "    else:\n",
        "        print('Su promedio es: ', promedio)\n",
        "        print('Aplicara un examen.')\n",
        "        input('Presione una tecla para continuar...')\n",
        "\n",
        "        #Si la carrera que elegimos fue de Sistemas nos aparecera este bloque de codigo\n",
        "        if datos['race'] == 'Sistemas':\n",
        "            print('1.-Unidad de almacenamiento mas rapido:')\n",
        "            print('A).- HDD.', 'B).- SSD sata', 'C).- SSD M.2', sep = '\\n')\n",
        "            one = input('OPCION: ').upper()#upper tiene de funcion transformar el string a mayusculas\n",
        "\n",
        "            if one == 'C':\n",
        "                #Si la respuesta es correcta se sumara un punto en aciertos\n",
        "                print('Respuesta correcta')\n",
        "                aciertos += 1\n",
        "            else:\n",
        "                print('Respuesta incorrecta')\n",
        "                errores += 1\n",
        "\n",
        "            print('2.-¿En una lista de python se pueden guardar datos de distinto tipo?')\n",
        "            print('A).- Si.', 'B).- No', 'C).- si, se puede solo tenemos que pasarlo a tuple', sep = '\\n')\n",
        "            two = input('OPCION: ').upper()\n",
        "\n",
        "            if two == 'A':\n",
        "                #Si la respuesta es correcta se sumara un punto en aciertos\n",
        "                print('Respuesta correcta')\n",
        "                aciertos += 1\n",
        "            else:\n",
        "                print('Respuesta incorrecta')\n",
        "                errores += 1\n",
        "\n",
        "            print('3.-¿Quien desarrollo git?')\n",
        "            print('A).- Linus Thorvalds.', 'B).- Linux Torval', 'C).- Linus Torvalds', sep = '\\n')\n",
        "            three = input('OPCION: ').upper()\n",
        "\n",
        "            if three == 'C':\n",
        "                print('Respuesta correcta')\n",
        "                #Si la respuesta es correcta se sumara un punto en aciertos\n",
        "                aciertos += 1\n",
        "            else:\n",
        "                print('Respuesta incorrecta')\n",
        "                errores += 1\n",
        "\n",
        "        elif datos['race'] == 'Quimico':\n",
        "            print('1.-¿Cual es la forma quimica del ozono?')\n",
        "            print('A).- O3', 'B).- O2', 'C).- O4', sep = '\\n')\n",
        "            one = input('OPCION: ').upper()\n",
        "\n",
        "            if one == 'A':\n",
        "                print('Respuesta correcta')\n",
        "                aciertos += 1\n",
        "            else:\n",
        "                print('Respuesta incorrecta')\n",
        "                errores += 1\n",
        "\n",
        "            print('2.-¿Cual es el numero atomico y simbolo del mercurio?')\n",
        "            print('A).- 81 y Mc', 'B).- 80 y Hg', 'C).- 82 y Hg', sep = '\\n')\n",
        "            two = input('OPCION: ').upper()\n",
        "    \n",
        "            if two == 'B':\n",
        "                print('Respuesta correcta')\n",
        "                aciertos += 1\n",
        "            else:\n",
        "                print('Respuesta incorrecta')\n",
        "                errores += 1\n",
        "\n",
        "            print('3.-¿Cuantos elementos hay en la tabla periodica?')\n",
        "            print('A).- actualmente 175', 'B).- actualmente 118', 'C).- actualmente 129', sep = '\\n')\n",
        "            three = input('OPCION: ').upper()\n",
        "    \n",
        "            if three == 'B':\n",
        "                print('Respuesta correcta')\n",
        "                aciertos += 1\n",
        "            else:\n",
        "                print('Respuesta incorrecta')\n",
        "                errores += 1\n",
        "\n",
        "        elif datos['race'] == 'Fisico':\n",
        "            print('¿Cual es la formula para calcular la velocidad?')\n",
        "            print('A).- distancia/tiempo', 'B).- distancia*Tiempo', 'C).-Aceleracion*distancia', sep = '\\n')\n",
        "            one = input('OPCION: ').upper()\n",
        "\n",
        "            if one == 'A':\n",
        "                print('Respuesta correcta')\n",
        "                aciertos += 1\n",
        "            else:\n",
        "                print('Respuesta incorrecta')\n",
        "                errores += 1\n",
        "\n",
        "            print('2.-¿De cuanto es la gravedad en la tierra?')\n",
        "            print('A).- 10 m/s 2', 'B).- 9.8 m/s 2', 'C).- 9.1 m/s 2', sep = '\\n')\n",
        "            two = input('OPCION: ').upper()\n",
        "    \n",
        "            if two == 'B':\n",
        "                print('Respuesta correcta')\n",
        "                aciertos += 1\n",
        "            else:\n",
        "                print('Respuesta incorrecta')\n",
        "                errores += 1\n",
        "\n",
        "            print('3.-¿Porque se generan las auroras boreales?')\n",
        "            print('A).- Particulas cargadas y el campo magnetico', 'B).- Polvo  y el campo magnetico', 'C).- ninguna', sep = '\\n')\n",
        "            three = input('OPCION: ').upper()\n",
        "    \n",
        "            if three == 'A':\n",
        "                print('Respuesta correcta')\n",
        "                aciertos += 1\n",
        "            else:\n",
        "                print('Respuesta incorrecta')\n",
        "                errores += 1\n",
        "        \n",
        "        #Mostrar contador de aciertos y errores\n",
        "        input('Presione una tecla para continuar... ')     \n",
        "        print(f'El resultado del examen fue {aciertos} aciertos y {errores} errores')\n",
        "\n",
        "        #Si tenemos 2 errores no pasamos y si tenemos mas de 2 aciertos pasamos\n",
        "        if errores >= 2:\n",
        "            print('¿Aprobado?', datos['selected'])\n",
        "            break\n",
        "        #Dar la bienvenida a la universidad y mostrar diccionario\n",
        "        else:\n",
        "            datos.update({'selected' : True})\n",
        "            print('¿Aprobado? ', datos['selected'])\n",
        "            input('Presione una tecla para continuar... ')\n",
        "            print('\\tHola {} {} usted fue admitido'.format(datos['name'], datos['last_name']))\n",
        "            print('\\t¡BIENVENIDO A LA UNIVERSIDAD DE ORIENTE!')\n",
        "            print(datos)\n",
        "            break"
      ],
      "metadata": {
        "id": "W9yJxpRbAAi3"
      },
      "execution_count": null,
      "outputs": []
    }
  ]
}