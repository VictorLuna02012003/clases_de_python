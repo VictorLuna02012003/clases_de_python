{
  "nbformat": 4,
  "nbformat_minor": 0,
  "metadata": {
    "colab": {
      "provenance": [],
      "authorship_tag": "ABX9TyOadJ0+Eq1M+QoMZA65xWI2",
      "include_colab_link": true
    },
    "kernelspec": {
      "name": "python3",
      "display_name": "Python 3"
    },
    "language_info": {
      "name": "python"
    }
  },
  "cells": [
    {
      "cell_type": "markdown",
      "metadata": {
        "id": "view-in-github",
        "colab_type": "text"
      },
      "source": [
        "<a href=\"https://colab.research.google.com/github/VictorLuna02012003/clases_de_python/blob/main/03_String.ipynb\" target=\"_parent\"><img src=\"https://colab.research.google.com/assets/colab-badge.svg\" alt=\"Open In Colab\"/></a>"
      ]
    },
    {
      "cell_type": "markdown",
      "source": [
        "<b><h1>String<b/><h1/>\n",
        "son el tipo de dato que incluye textos. Cualquier informacion escrita como un texto es considerado como un string."
      ],
      "metadata": {
        "id": "oJNTklG_gVmn"
      }
    },
    {
      "cell_type": "code",
      "source": [
        "letra = 'P'\n",
        "print(letra)\n",
        "print(len(letra))\n",
        "saludo = 'Hello world'\n",
        "print(saludo)\n",
        "print(len(saludo))\n",
        "oracion = 'I hope you are enjoying 30 days of python challenge'\n",
        "print(oracion)\n",
        "print(len(oracion))"
      ],
      "metadata": {
        "id": "2sXNFpBVg5eT"
      },
      "execution_count": null,
      "outputs": []
    },
    {
      "cell_type": "code",
      "source": [
        "multiline_string = '''Pac man originalmente se llamaba puck man.\n",
        "Lo cambiaran no por por que Pac-Man fuera redondo.\n",
        "Paku paku signifca abrir  y cerrar la boca y tuvieron miedo de que la gente \n",
        "tachara la 'P' y la convirtiera en 'F'.'''\n",
        "\n",
        "#Otra forma de hacer exactamente lo mismo\n",
        "multiline_string = '''Pac man originalmente se llamaba puck man.\n",
        "Lo cambiaran no por por que Pac-Man fuera redondo.\n",
        "Paku paku signifca abrir  y cerrar la boca y tuvieron miedo de que la gente \n",
        "tachara la 'P' y la convirtiera en 'F'.'''\n",
        "print(multiline_string)"
      ],
      "metadata": {
        "id": "8Tzo49j1iCzz"
      },
      "execution_count": null,
      "outputs": []
    },
    {
      "cell_type": "markdown",
      "source": [
        "<b>SECUENCIA DE ESCAPE<b/>\n"
      ],
      "metadata": {
        "id": "nK3Gt0P6i-W7"
      }
    },
    {
      "cell_type": "code",
      "source": [
        "1.- \\n_ Linea nueva\n",
        "2.- \\t: Tabulacion (8 espacios)\n",
        "3.- \\: Backslash\n",
        "4.- '': Single quote\n",
        "5.-\"\": Double quote\n",
        "\n",
        "print(\"Este es un ejemplo de salto de linea.\\n¿Lo natas?\")\n",
        "print(\"Dia\\tTemas\\tEjercicios\")\n",
        "print(\"Dia 1\\t3\\t5\")\n",
        "print(\"Dia 2\\t3\\t5\")\n",
        "print(\"Dia 3\\t3\\t5\")\n",
        "print(\"Dia 4\\t3\\t5\")\n",
        "print(\"Este es un simbolo backflash(\\\\)\")\n",
        "print('\"In every programming lenguage it start with \\\"Hello world!\\\"')\n"
      ],
      "metadata": {
        "id": "GZ2UoADyjFap"
      },
      "execution_count": null,
      "outputs": []
    },
    {
      "cell_type": "markdown",
      "source": [
        "STRINGS CON VARIABLES"
      ],
      "metadata": {
        "id": "nGWvqrdrkyNR"
      }
    },
    {
      "cell_type": "code",
      "source": [
        "name, surname, alias, age = \"Victor Manuel\", \"Hernandez Luna\", \"VictorLuna\", 20\n",
        "\n",
        "print(\"Me llamo:\", name, surname)\n",
        "print(\"Mi edad es:\", age, \", Mi amigos me dicen:\", alias)\n",
        "\n",
        "print(\"Mi nombre es {} {} y mi edad es {}\".format(name, surname, age))\n",
        "print(\"Mi nombre es %s %s y mi edad es %d\" %(name, surname, age)) \n",
        "print(f\"Mi nombre es {name} {surname} y mi edad es {age}\")"
      ],
      "metadata": {
        "id": "rTX0sZmuk2aN"
      },
      "execution_count": null,
      "outputs": []
    },
    {
      "cell_type": "markdown",
      "source": [
        "strings como secuencia de caracteres.\n",
        "Los strings son secuencia de letras unidas que forman palabras. Tenemos distintas maneras de descomponer un string en cada una de sus unidades, sin embargo la manera mas simple de extraer cada miembro de un string y desempaquetarlo en distintas variables "
      ],
      "metadata": {
        "id": "y4zpfkvCmJiw"
      }
    },
    {
      "cell_type": "code",
      "source": [
        "Lenguage = 'python'\n",
        "a,b,c,d,e,f = Lenguage\n",
        "print(a)\n",
        "print(b)\n",
        "print(c)\n",
        "print(d)\n",
        "print(e)\n",
        "print(f)"
      ],
      "metadata": {
        "colab": {
          "base_uri": "https://localhost:8080/"
        },
        "id": "xBsogC5FmNv-",
        "outputId": "dd5ab95c-21a2-4e4e-f46d-6ac995cada04"
      },
      "execution_count": null,
      "outputs": [
        {
          "output_type": "stream",
          "name": "stdout",
          "text": [
            "p\n",
            "y\n",
            "t\n",
            "h\n",
            "o\n",
            "n\n"
          ]
        }
      ]
    },
    {
      "cell_type": "code",
      "source": [
        "primer_letra=lenguaje[0]\n",
        "segunda_letra=lenguaje[1]\n",
        "tercera_letra=lenguaje[2]\n",
        "print(primer_letra)\n",
        "print(segunda_letra)\n",
        "print(tercera_letra)"
      ],
      "metadata": {
        "id": "Io5ETxqSojyH"
      },
      "execution_count": null,
      "outputs": []
    },
    {
      "cell_type": "markdown",
      "source": [
        "RECORDANDO STRINGS"
      ],
      "metadata": {
        "id": "Fvk_eSX8o8Ql"
      }
    },
    {
      "cell_type": "code",
      "source": [
        "Lenguaje= 'python'\n",
        "primeros_tres = Lenguaje[0:3]\n",
        "print(primeros_tres)\n",
        "\n",
        "ultimos_tres = Lenguaje[-3:]\n",
        "print(ultimos_tres) #hon\n",
        "ultimos_tres = Lenguaje[:-3]\n",
        "print(ultimos_tres)"
      ],
      "metadata": {
        "id": "PKa_4KQhpB1r"
      },
      "execution_count": null,
      "outputs": []
    },
    {
      "cell_type": "markdown",
      "source": [
        "INVIRTIENDO STRINGS"
      ],
      "metadata": {
        "id": "Z3s-W7FDqLZZ"
      }
    },
    {
      "cell_type": "code",
      "source": [
        "saludo = 'Hello, world!'\n",
        "print(saludo[::-1])"
      ],
      "metadata": {
        "colab": {
          "base_uri": "https://localhost:8080/"
        },
        "id": "oGzCNbP9qNbs",
        "outputId": "b2bc18d7-0840-43f5-cc8a-ae746f2db4e9"
      },
      "execution_count": null,
      "outputs": [
        {
          "output_type": "stream",
          "name": "stdout",
          "text": [
            "!dlrow ,olleH\n"
          ]
        }
      ]
    },
    {
      "cell_type": "markdown",
      "source": [
        "Saltando letras"
      ],
      "metadata": {
        "id": "OrpWXc7OqZxI"
      }
    },
    {
      "cell_type": "code",
      "source": [
        "lenguaje = 'python'\n",
        "new = lenguaje[0:6:2]\n",
        "print(new)"
      ],
      "metadata": {
        "colab": {
          "base_uri": "https://localhost:8080/"
        },
        "id": "gKD96IHTqdiQ",
        "outputId": "b17a711d-0254-48ef-8445-a895b0b4a4bd"
      },
      "execution_count": null,
      "outputs": [
        {
          "output_type": "stream",
          "name": "stdout",
          "text": [
            "pto\n"
          ]
        }
      ]
    },
    {
      "cell_type": "markdown",
      "source": [
        "Convertir la primer letra en mayuscula"
      ],
      "metadata": {
        "id": "Dqn0BtmFqzG4"
      }
    },
    {
      "cell_type": "code",
      "source": [
        "text = 'aprendiendo', 'python', 'en', 'clase'\n",
        "print(type(text))\n",
        "text= 'aprendiendo python en clase'\n",
        "print(type(text))\n",
        "print(text.capitalize())"
      ],
      "metadata": {
        "colab": {
          "base_uri": "https://localhost:8080/"
        },
        "id": "9xItub_eq3lE",
        "outputId": "37239e89-c141-4d89-c722-f718206b8c2e"
      },
      "execution_count": null,
      "outputs": [
        {
          "output_type": "stream",
          "name": "stdout",
          "text": [
            "<class 'tuple'>\n",
            "<class 'str'>\n",
            "Aprendiendo python en clase\n"
          ]
        }
      ]
    },
    {
      "cell_type": "markdown",
      "source": [
        "CONTAR LAS VECES QUE SE REPITE UN CARACTER"
      ],
      "metadata": {
        "id": "v0Pmyzqfrwln"
      }
    },
    {
      "cell_type": "code",
      "source": [
        "text = 'aprendiendo python en clase'\n",
        "print(text.count('a'))\n",
        "print(text.count('y', 7, 14))\n",
        "print(text.count('en'))"
      ],
      "metadata": {
        "id": "YQHqrNajr4nb",
        "colab": {
          "base_uri": "https://localhost:8080/"
        },
        "outputId": "3f73d3b9-d480-49c4-b382-37b8a0ade04d"
      },
      "execution_count": 1,
      "outputs": [
        {
          "output_type": "stream",
          "name": "stdout",
          "text": [
            "2\n",
            "1\n",
            "3\n"
          ]
        }
      ]
    },
    {
      "cell_type": "markdown",
      "source": [
        "REGRESA LA POSICION DONDE SE ENCUENTRA EL CARACTER"
      ],
      "metadata": {
        "id": "3a24t9qGsOFm"
      }
    },
    {
      "cell_type": "code",
      "source": [
        "text = 'aprendiendo python en clase'\n",
        "print(text.find('y'))\n",
        "print(text.find('th'))\n",
        "print(text.find('em'))"
      ],
      "metadata": {
        "id": "RmwlNSYBsSfD"
      },
      "execution_count": null,
      "outputs": []
    },
    {
      "cell_type": "markdown",
      "source": [
        "<b>ACTIVIDAD: Genera palindromos y comprueba que efectivamente lo son.<b/>"
      ],
      "metadata": {
        "id": "83OI-VFusuE4"
      }
    },
    {
      "cell_type": "code",
      "source": [
        "palindromo = input(\"Ingresa una palabra: \")\n",
        "print(palindromo[::-1])\n",
        "\n",
        "\n",
        "\n",
        "\n",
        "\n",
        "\n",
        "\n",
        "\n",
        "\n",
        "\n",
        "\n",
        "\n",
        "\n",
        "\n",
        "\n"
      ],
      "metadata": {
        "colab": {
          "base_uri": "https://localhost:8080/"
        },
        "id": "zovDJPids-0r",
        "outputId": "c9bba8e1-51a6-48ac-ff1f-520dd86c20de"
      },
      "execution_count": null,
      "outputs": [
        {
          "output_type": "stream",
          "name": "stdout",
          "text": [
            "Ingresa una palabra: reconocer\n",
            "reconocer\n"
          ]
        }
      ]
    }
  ]
}