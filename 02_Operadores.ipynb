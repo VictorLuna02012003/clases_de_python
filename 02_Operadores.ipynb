{
  "nbformat": 4,
  "nbformat_minor": 0,
  "metadata": {
    "colab": {
      "provenance": [],
      "include_colab_link": true
    },
    "kernelspec": {
      "name": "python3",
      "display_name": "Python 3"
    },
    "language_info": {
      "name": "python"
    }
  },
  "cells": [
    {
      "cell_type": "markdown",
      "metadata": {
        "id": "view-in-github",
        "colab_type": "text"
      },
      "source": [
        "<a href=\"https://colab.research.google.com/github/VictorLuna02012003/clases_de_python/blob/main/02_Operadores.ipynb\" target=\"_parent\"><img src=\"https://colab.research.google.com/assets/colab-badge.svg\" alt=\"Open In Colab\"/></a>"
      ]
    },
    {
      "cell_type": "markdown",
      "source": [
        "<h1>Operadores aritmeticos</h1>"
      ],
      "metadata": {
        "id": "BeqSeiAhAOmB"
      }
    },
    {
      "cell_type": "code",
      "execution_count": 1,
      "metadata": {
        "id": "6TNm24dtAKxK",
        "colab": {
          "base_uri": "https://localhost:8080/"
        },
        "outputId": "d0783ded-fda7-45ac-d225-6345011b58c2"
      },
      "outputs": [
        {
          "output_type": "stream",
          "name": "stdout",
          "text": [
            "Suma:  3\n",
            "Resta:  1\n",
            "Multiplicacion: 30\n",
            "Division:  3\n",
            "Division:  3.5\n",
            "Modulo:  1\n",
            "Exponente 8\n"
          ]
        }
      ],
      "source": [
        "print(\"Suma: \", 1+2)\n",
        "print(\"Resta: \", 6-5)\n",
        "print('Multiplicacion:', 5*6)\n",
        "print(\"Division: \", 7//2)\n",
        "print(\"Division: \", 7/2)\n",
        "print('Modulo: ', 3%2)\n",
        "print('Exponente', 2 ** 3)"
      ]
    },
    {
      "cell_type": "markdown",
      "source": [
        "podemos unir palabras usando operadores"
      ],
      "metadata": {
        "id": "wqkk2g0WBDFV"
      }
    },
    {
      "cell_type": "code",
      "source": [
        "print('Hola', 'Python')\n",
        "print('Hola' + 'Python')\n",
        "print('Hola' + str(5))\n",
        "print('Hola' * 5)"
      ],
      "metadata": {
        "id": "TP6JN1XYBGU2",
        "colab": {
          "base_uri": "https://localhost:8080/"
        },
        "outputId": "82e3db05-6ffd-4d6b-e0aa-274897477288"
      },
      "execution_count": 2,
      "outputs": [
        {
          "output_type": "stream",
          "name": "stdout",
          "text": [
            "Hola Python\n",
            "HolaPython\n",
            "Hola5\n",
            "HolaHolaHolaHolaHola\n"
          ]
        }
      ]
    },
    {
      "cell_type": "code",
      "source": [
        "##Estas funciones facilitan\n",
        "for i in range (11):\n",
        "  print('*' * i)"
      ],
      "metadata": {
        "colab": {
          "base_uri": "https://localhost:8080/"
        },
        "id": "1Xb3CXjbBhyx",
        "outputId": "fd05cc9b-51f6-4b17-fd0f-f162878aec6b"
      },
      "execution_count": 3,
      "outputs": [
        {
          "output_type": "stream",
          "name": "stdout",
          "text": [
            "\n",
            "*\n",
            "**\n",
            "***\n",
            "****\n",
            "*****\n",
            "******\n",
            "*******\n",
            "********\n",
            "*********\n",
            "**********\n"
          ]
        }
      ]
    },
    {
      "cell_type": "markdown",
      "source": [
        "Ademas podemos usar los operadores con las variables"
      ],
      "metadata": {
        "id": "--ajsrNdCDdc"
      }
    },
    {
      "cell_type": "code",
      "source": [
        "pizza = 20\n",
        "refresco = 15\n",
        "compra = pizza + refresco\n",
        "propina = compra * 0.2\n",
        "total = compra + propina \n",
        "print(\"Usted debe pagar: \", compra, 'de propina ud debe', propina, 'su total es:', total)"
      ],
      "metadata": {
        "id": "KDiSAic0B8UJ",
        "colab": {
          "base_uri": "https://localhost:8080/"
        },
        "outputId": "ac66bad6-946b-471c-9952-f2fc3645b3c9"
      },
      "execution_count": 4,
      "outputs": [
        {
          "output_type": "stream",
          "name": "stdout",
          "text": [
            "Usted debe pagar:  35 de propina ud debe 7.0 su total es: 42.0\n"
          ]
        }
      ]
    },
    {
      "cell_type": "code",
      "source": [
        "##Esta funciones nos facilitan mucho el trabajo como por ejemplo\n",
        "\n",
        "x = 1\n",
        "suma = 0\n",
        "while x<=10:\n",
        "  suma += x\n",
        "  x+=1\n",
        "print(suma)"
      ],
      "metadata": {
        "id": "BnWHm4S7DEiN",
        "colab": {
          "base_uri": "https://localhost:8080/"
        },
        "outputId": "98fae38e-fde4-4524-e6a6-c9fa0a350161"
      },
      "execution_count": 5,
      "outputs": [
        {
          "output_type": "stream",
          "name": "stdout",
          "text": [
            "55\n"
          ]
        }
      ]
    },
    {
      "cell_type": "code",
      "source": [
        "print('Igual a:', 2==2)   #TRUE\n",
        "print('Igual a:', 2==2.00) #TRUE\n",
        "print('Igual a:', 2==1.9999) #FALSE\n"
      ],
      "metadata": {
        "id": "8IM2hvm4Dly7",
        "colab": {
          "base_uri": "https://localhost:8080/"
        },
        "outputId": "507570f2-ca04-434b-b121-67532b8a7e8e"
      },
      "execution_count": 6,
      "outputs": [
        {
          "output_type": "stream",
          "name": "stdout",
          "text": [
            "Igual a: True\n",
            "Igual a: True\n",
            "Igual a: False\n"
          ]
        }
      ]
    },
    {
      "cell_type": "code",
      "source": [
        "print(\"Distinto de:\", 2!=2) #FALSE\n",
        "print('Distinto de: ', 2!=3)  #TRUE"
      ],
      "metadata": {
        "id": "Nm6JObqHEGRm",
        "colab": {
          "base_uri": "https://localhost:8080/"
        },
        "outputId": "0c0ffd8b-c714-48b3-fb13-d7bb6f4489af"
      },
      "execution_count": 7,
      "outputs": [
        {
          "output_type": "stream",
          "name": "stdout",
          "text": [
            "Distinto de: False\n",
            "Distinto de:  True\n"
          ]
        }
      ]
    },
    {
      "cell_type": "code",
      "source": [
        "print('Mayor que:', 2>3)#FALSE\n",
        "print('Menor que:', 2<3)#TRUE\n",
        "print('Mayor o igual que:', 4>=3)#TRUE\n",
        "print('Mayor o igual que:', 3>=3)#TRUE\n",
        "print(\"Menor o igual que:\", 3<=3 )#TRUE\n",
        "print(\"Menor o igual que:\", 4<=4 )#TRUE\n"
      ],
      "metadata": {
        "id": "PXbCFb_KEbjY",
        "colab": {
          "base_uri": "https://localhost:8080/"
        },
        "outputId": "0da0409a-4cee-49d8-a6e9-f33b81b4b8f4"
      },
      "execution_count": 8,
      "outputs": [
        {
          "output_type": "stream",
          "name": "stdout",
          "text": [
            "Mayor que: False\n",
            "Menor que: True\n",
            "Mayor o igual que: True\n",
            "Mayor o igual que: True\n",
            "Menor o igual que: True\n",
            "Menor o igual que: True\n"
          ]
        }
      ]
    },
    {
      "cell_type": "code",
      "source": [
        "print(len('mango') == len('melón'))#TRUE\n",
        "print(len('mango') != len('melón'))#FALSE\n",
        "print(len('mango') < len('melón'))#FALSE\n",
        "print(len('mango') > len('melón'))#FALSE\n"
      ],
      "metadata": {
        "id": "gNEmLhflE-GL",
        "colab": {
          "base_uri": "https://localhost:8080/"
        },
        "outputId": "ef7bdb80-9bb6-4cf3-e442-26fc087f6fa0"
      },
      "execution_count": 9,
      "outputs": [
        {
          "output_type": "stream",
          "name": "stdout",
          "text": [
            "True\n",
            "False\n",
            "False\n",
            "False\n"
          ]
        }
      ]
    },
    {
      "cell_type": "markdown",
      "source": [
        "<h1>Operadores de comparacion con texto</h1>"
      ],
      "metadata": {
        "id": "W1wiYZ1pFhiB"
      }
    },
    {
      "cell_type": "code",
      "source": [
        "print(\"1 is 1\", 1 is 1)                      #TRUE\n",
        "print('1 is not 2', 1 is not 2)              #TRUE\n",
        "print('A en Alejandro', 'A' in 'Alejandro')   #TRUE\n",
        "print('L en Alejandro', 'L' in 'Alejandro')   #FALSE\n",
        "print('coding' in 'coding for all')           #TRUE\n",
        "print('a in an', 'a' in 'an')                 #TRUE\n",
        "print('4 is 2 ** 2:', 4 is 2 ** 2 )           #TRUE"
      ],
      "metadata": {
        "id": "BDsZgdRbFtlz",
        "colab": {
          "base_uri": "https://localhost:8080/"
        },
        "outputId": "cc14ad15-7090-46a9-d1f6-c345bb037a6c"
      },
      "execution_count": 10,
      "outputs": [
        {
          "output_type": "stream",
          "name": "stdout",
          "text": [
            "1 is 1 True\n",
            "1 is not 2 True\n",
            "A en Alejandro True\n",
            "L en Alejandro False\n",
            "True\n",
            "a in an True\n",
            "4 is 2 ** 2: True\n"
          ]
        },
        {
          "output_type": "stream",
          "name": "stderr",
          "text": [
            "<>:1: SyntaxWarning: \"is\" with a literal. Did you mean \"==\"?\n",
            "<>:2: SyntaxWarning: \"is not\" with a literal. Did you mean \"!=\"?\n",
            "<>:7: SyntaxWarning: \"is\" with a literal. Did you mean \"==\"?\n",
            "<>:1: SyntaxWarning: \"is\" with a literal. Did you mean \"==\"?\n",
            "<>:2: SyntaxWarning: \"is not\" with a literal. Did you mean \"!=\"?\n",
            "<>:7: SyntaxWarning: \"is\" with a literal. Did you mean \"==\"?\n",
            "<ipython-input-10-7f061f50d35a>:1: SyntaxWarning: \"is\" with a literal. Did you mean \"==\"?\n",
            "  print(\"1 is 1\", 1 is 1)                      #TRUE\n",
            "<ipython-input-10-7f061f50d35a>:2: SyntaxWarning: \"is not\" with a literal. Did you mean \"!=\"?\n",
            "  print('1 is not 2', 1 is not 2)              #TRUE\n",
            "<ipython-input-10-7f061f50d35a>:7: SyntaxWarning: \"is\" with a literal. Did you mean \"==\"?\n",
            "  print('4 is 2 ** 2:', 4 is 2 ** 2 )           #TRUE\n"
          ]
        }
      ]
    },
    {
      "cell_type": "markdown",
      "source": [
        "Operadores logicos"
      ],
      "metadata": {
        "id": "y_44UJ9lHFsp"
      }
    },
    {
      "cell_type": "code",
      "source": [
        "print(3 > 2 and 4 > 3)          #TRUE\n",
        "print(3 > 2 and 4 < 3)          #FALSE\n",
        "print(3 < 2 and 4 < 3)          #FALSE\n",
        "print('True and True: ', True and True)   \n",
        "\n",
        "print(3 > 2 or 4 > 3)           #TRUE\n",
        "print(3 > 2 or 4 < 3)           #FALSE\n",
        "print(3 < 2 or 4 < 3)           #FALSE\n",
        "print('True or False: ', True or False )\n",
        "\n",
        "print()\n"
      ],
      "metadata": {
        "id": "Jj1euBs6HEis",
        "colab": {
          "base_uri": "https://localhost:8080/"
        },
        "outputId": "5cded94a-5971-4f8c-b2a7-2adc41a233ce"
      },
      "execution_count": 11,
      "outputs": [
        {
          "output_type": "stream",
          "name": "stdout",
          "text": [
            "True\n",
            "False\n",
            "False\n",
            "True and True:  True\n",
            "True\n",
            "True\n",
            "False\n",
            "True or False:  True\n",
            "\n"
          ]
        }
      ]
    },
    {
      "cell_type": "code",
      "source": [
        "import math\n",
        "\n",
        "fahrenheit = float(input('Ingresa los grados fahrenheit: '))\n",
        "celsius = (fahrenheit - 32)/1.8\n",
        "print('los grados celsius es: ', celsius,'°')"
      ],
      "metadata": {
        "colab": {
          "base_uri": "https://localhost:8080/"
        },
        "id": "E4oTsIhIyMph",
        "outputId": "ff88ccbd-d439-4878-c793-988b73a0e68b"
      },
      "execution_count": 15,
      "outputs": [
        {
          "output_type": "stream",
          "name": "stdout",
          "text": [
            "Ingresa los grados fahrenheit: 78\n",
            "los grados celsius es:  25.555555555555554 °\n"
          ]
        }
      ]
    },
    {
      "cell_type": "code",
      "source": [
        "mass = float(input('Ingresa tu peso: '))\n",
        "height = float(input('Ingresa tu altura: '))\n",
        "bml = mass/pow(height, 2)\n",
        "print('Tu indice de masa corporla es: ', bml)"
      ],
      "metadata": {
        "colab": {
          "base_uri": "https://localhost:8080/"
        },
        "id": "7gC2GKbDyQwW",
        "outputId": "b939e4df-8498-4eb7-efaa-dd28181a4a59"
      },
      "execution_count": 16,
      "outputs": [
        {
          "output_type": "stream",
          "name": "stdout",
          "text": [
            "Ingresa tu peso: 74\n",
            "Ingresa tu altura: 1.70\n",
            "Tu indice de masa corporla es:  25.605536332179934\n"
          ]
        }
      ]
    }
  ]
}