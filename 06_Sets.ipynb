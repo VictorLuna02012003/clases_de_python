{
  "nbformat": 4,
  "nbformat_minor": 0,
  "metadata": {
    "colab": {
      "provenance": [],
      "include_colab_link": true
    },
    "kernelspec": {
      "name": "python3",
      "display_name": "Python 3"
    },
    "language_info": {
      "name": "python"
    }
  },
  "cells": [
    {
      "cell_type": "markdown",
      "metadata": {
        "id": "view-in-github",
        "colab_type": "text"
      },
      "source": [
        "<a href=\"https://colab.research.google.com/github/VictorLuna02012003/clases_de_python/blob/main/06_Sets.ipynb\" target=\"_parent\"><img src=\"https://colab.research.google.com/assets/colab-badge.svg\" alt=\"Open In Colab\"/></a>"
      ]
    },
    {
      "cell_type": "code",
      "execution_count": 5,
      "metadata": {
        "colab": {
          "base_uri": "https://localhost:8080/"
        },
        "id": "H9oN1aPh4A3Z",
        "outputId": "5e207eee-5488-46c8-f65f-98e552d31c1e"
      },
      "outputs": [
        {
          "output_type": "stream",
          "name": "stdout",
          "text": [
            "<class 'set'>\n",
            "<class 'dict'>\n"
          ]
        }
      ],
      "source": [
        "my_set = set()\n",
        "other_set = {}\n",
        "print(type(my_set))\n",
        "print(type(other_set))"
      ]
    },
    {
      "cell_type": "code",
      "source": [
        "other_set = {1, 2.4, 3, 'Victor Manuel', 'Hernandez', 'Luna', 'Victor Manuel'}\n",
        "print(type(other_set))"
      ],
      "metadata": {
        "colab": {
          "base_uri": "https://localhost:8080/"
        },
        "id": "dMNX9z9e5GKR",
        "outputId": "93426742-3e26-4507-db15-688b4c95305d"
      },
      "execution_count": 4,
      "outputs": [
        {
          "output_type": "stream",
          "name": "stdout",
          "text": [
            "<class 'set'>\n"
          ]
        }
      ]
    },
    {
      "cell_type": "code",
      "source": [
        "my_set = {'banana', 'naranja', 'mango', 'limon'}\n",
        "print(len(my_set))\n",
        "print(my_set)"
      ],
      "metadata": {
        "colab": {
          "base_uri": "https://localhost:8080/"
        },
        "id": "sV8FV5T-5Qig",
        "outputId": "c3101b21-f582-4cc0-8f09-175165f1e9c9"
      },
      "execution_count": 1,
      "outputs": [
        {
          "output_type": "stream",
          "name": "stdout",
          "text": [
            "4\n",
            "{'naranja', 'limon', 'mango', 'banana'}\n"
          ]
        }
      ]
    },
    {
      "cell_type": "code",
      "source": [
        "print(my_set)\n",
        "my_set.add('manzana')\n",
        "print(my_set)"
      ],
      "metadata": {
        "colab": {
          "base_uri": "https://localhost:8080/"
        },
        "id": "bite8gyx6bWN",
        "outputId": "34244735-e9b9-477a-ff01-8e45fd452fa5"
      },
      "execution_count": 2,
      "outputs": [
        {
          "output_type": "stream",
          "name": "stdout",
          "text": [
            "{'naranja', 'limon', 'mango', 'banana'}\n",
            "{'naranja', 'manzana', 'banana', 'limon', 'mango'}\n"
          ]
        }
      ]
    },
    {
      "cell_type": "code",
      "source": [
        "print(my_set)\n",
        "vegetales = {'tomate', 'papa', 'zanahoria'}\n",
        "print(vegetales)\n",
        "my_set.update(vegetales)\n",
        "print(my_set)"
      ],
      "metadata": {
        "colab": {
          "base_uri": "https://localhost:8080/"
        },
        "id": "4e4e03fR6eTQ",
        "outputId": "5a3d764f-85ce-483f-e69b-2e9bcc903bd0"
      },
      "execution_count": 3,
      "outputs": [
        {
          "output_type": "stream",
          "name": "stdout",
          "text": [
            "{'naranja', 'manzana', 'banana', 'limon', 'mango'}\n",
            "{'papa', 'zanahoria', 'tomate'}\n",
            "{'naranja', 'manzana', 'zanahoria', 'banana', 'papa', 'tomate', 'limon', 'mango'}\n"
          ]
        }
      ]
    },
    {
      "cell_type": "markdown",
      "source": [
        "# **no se puede consultar en una posicion como en un array**\n",
        "\n",
        "Elemento de lista        \n",
        "Elemento de lista"
      ],
      "metadata": {
        "id": "NBKU4kgZczdj"
      }
    },
    {
      "cell_type": "code",
      "source": [
        "frutas = {'mango', 'manzana', 'uva'}"
      ],
      "metadata": {
        "id": "KcmTwPrC8LMP"
      },
      "execution_count": null,
      "outputs": []
    },
    {
      "cell_type": "code",
      "source": [
        "print('Existe mango', 'mango' in frutas)"
      ],
      "metadata": {
        "id": "irjgCOxg8wrz"
      },
      "execution_count": null,
      "outputs": []
    },
    {
      "cell_type": "code",
      "source": [
        "frutas.remove('mango')\n",
        "print(frutas)"
      ],
      "metadata": {
        "id": "q1KfiV8M8z2i"
      },
      "execution_count": null,
      "outputs": []
    },
    {
      "cell_type": "code",
      "source": [
        "frutas = {'mango', 'manzana', 'uva'}\n",
        "vegetales = {'tomate', 'papa', 'zanahoria'}\n",
        "print(frutas.union(vegetales))"
      ],
      "metadata": {
        "colab": {
          "base_uri": "https://localhost:8080/"
        },
        "id": "xlA-__0T83Ku",
        "outputId": "89cca10f-176e-4711-ba69-6ce70876fadf"
      },
      "execution_count": 10,
      "outputs": [
        {
          "output_type": "stream",
          "name": "stdout",
          "text": [
            "{'papa', 'manzana', 'tomate', 'zanahoria', 'mango', 'uva'}\n"
          ]
        }
      ]
    },
    {
      "cell_type": "code",
      "source": [
        "numeros = {0, 1, 2, 3, 4, 5, 6, 7, 8, 9}\n",
        "numeros_pares = {2, 4, 6, 8, 10, 12, 14}\n",
        "print(numeros.intersection(numeros_pares))"
      ],
      "metadata": {
        "colab": {
          "base_uri": "https://localhost:8080/"
        },
        "id": "RTJJTlrJ86zP",
        "outputId": "02c1aed4-8da2-42c1-dd94-bf64414fdfb9"
      },
      "execution_count": 11,
      "outputs": [
        {
          "output_type": "stream",
          "name": "stdout",
          "text": [
            "{8, 2, 4, 6}\n"
          ]
        }
      ]
    }
  ]
}