{
  "nbformat": 4,
  "nbformat_minor": 0,
  "metadata": {
    "colab": {
      "provenance": [],
      "include_colab_link": true
    },
    "kernelspec": {
      "name": "python3",
      "display_name": "Python 3"
    },
    "language_info": {
      "name": "python"
    }
  },
  "cells": [
    {
      "cell_type": "markdown",
      "metadata": {
        "id": "view-in-github",
        "colab_type": "text"
      },
      "source": [
        "<a href=\"https://colab.research.google.com/github/VictorLuna02012003/clases_de_python/blob/main/09_Bucles.ipynb\" target=\"_parent\"><img src=\"https://colab.research.google.com/assets/colab-badge.svg\" alt=\"Open In Colab\"/></a>"
      ]
    },
    {
      "cell_type": "markdown",
      "source": [
        "<h1>09 bucles/loops/ciclos</h1>"
      ],
      "metadata": {
        "id": "Ak8ToOzUkljK"
      }
    },
    {
      "cell_type": "code",
      "execution_count": 1,
      "metadata": {
        "id": "NJ1iOvRm45Z0",
        "colab": {
          "base_uri": "https://localhost:8080/"
        },
        "outputId": "e0dc79ed-9d87-4b4e-f0d1-e207acaf09d4"
      },
      "outputs": [
        {
          "output_type": "stream",
          "name": "stdout",
          "text": [
            "0\n",
            "1\n",
            "2\n",
            "3\n",
            "4\n"
          ]
        }
      ],
      "source": [
        "count = 0\n",
        "while count < 5:\n",
        "  print(count)\n",
        "  count +=1"
      ]
    },
    {
      "cell_type": "code",
      "source": [
        "numeros = [0, 1, 2, 3, 4, 5]\n",
        "for contador in numeros:\n",
        "  print(contador)"
      ],
      "metadata": {
        "colab": {
          "base_uri": "https://localhost:8080/"
        },
        "id": "MS_pM_g1krPr",
        "outputId": "0d115210-fdd4-47fc-ae3c-607c06d7eda3"
      },
      "execution_count": 2,
      "outputs": [
        {
          "output_type": "stream",
          "name": "stdout",
          "text": [
            "0\n",
            "1\n",
            "2\n",
            "3\n",
            "4\n",
            "5\n"
          ]
        }
      ]
    },
    {
      "cell_type": "code",
      "source": [
        "language = 'Python'\n",
        "for i in range(len(language)):\n",
        "  print(language[i])"
      ],
      "metadata": {
        "colab": {
          "base_uri": "https://localhost:8080/"
        },
        "id": "OZpA0-B6kxfM",
        "outputId": "9963fba7-321e-4fc7-cf3c-37b58ea14e04"
      },
      "execution_count": 3,
      "outputs": [
        {
          "output_type": "stream",
          "name": "stdout",
          "text": [
            "P\n",
            "y\n",
            "t\n",
            "h\n",
            "o\n",
            "n\n"
          ]
        }
      ]
    },
    {
      "cell_type": "code",
      "source": [
        "person = {\n",
        "    'name' : 'Erick',\n",
        "    'Last_name' : 'Borgues',\n",
        "    'age' : 23,\n",
        "    'skills' : ['javascript', 'python', 'css'],\n",
        "    'address':{\n",
        "        'street': 'hola',\n",
        "        'tele': '3122209425'\n",
        "        \n",
        "    }\n",
        "}\n",
        "\n",
        "print(person)"
      ],
      "metadata": {
        "colab": {
          "base_uri": "https://localhost:8080/"
        },
        "id": "J5zxR0zZl0Ro",
        "outputId": "b9b74bed-9f5f-49bf-dfdc-1a5a2ca27ff0"
      },
      "execution_count": 4,
      "outputs": [
        {
          "output_type": "stream",
          "name": "stdout",
          "text": [
            "{'name': 'Erick', 'Last_name': 'Borgues', 'age': 23, 'skills': ['javascript', 'python', 'css'], 'address': {'street': 'hola', 'tele': '3122209425'}}\n"
          ]
        }
      ]
    },
    {
      "cell_type": "code",
      "source": [
        "for key in person:\n",
        "  print(key)"
      ],
      "metadata": {
        "colab": {
          "base_uri": "https://localhost:8080/"
        },
        "id": "hl40MZxhk0Em",
        "outputId": "1aafadda-1301-43d0-8399-a1e6ee91a6de"
      },
      "execution_count": 5,
      "outputs": [
        {
          "output_type": "stream",
          "name": "stdout",
          "text": [
            "name\n",
            "Last_name\n",
            "age\n",
            "skills\n",
            "address\n"
          ]
        }
      ]
    },
    {
      "cell_type": "code",
      "source": [
        "for key, value in person.items():\n",
        "  print(value)"
      ],
      "metadata": {
        "colab": {
          "base_uri": "https://localhost:8080/"
        },
        "id": "gYEYGieek01O",
        "outputId": "cc20264a-6c8b-46e4-9737-b260d100f96b"
      },
      "execution_count": 6,
      "outputs": [
        {
          "output_type": "stream",
          "name": "stdout",
          "text": [
            "Erick\n",
            "Borgues\n",
            "23\n",
            "['javascript', 'python', 'css']\n",
            "{'street': 'hola', 'tele': '3122209425'}\n"
          ]
        }
      ]
    }
  ]
}