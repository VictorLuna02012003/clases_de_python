{
  "nbformat": 4,
  "nbformat_minor": 0,
  "metadata": {
    "colab": {
      "provenance": [],
      "authorship_tag": "ABX9TyOxagIiOxeYGpRVuEINQSP/",
      "include_colab_link": true
    },
    "kernelspec": {
      "name": "python3",
      "display_name": "Python 3"
    },
    "language_info": {
      "name": "python"
    }
  },
  "cells": [
    {
      "cell_type": "markdown",
      "metadata": {
        "id": "view-in-github",
        "colab_type": "text"
      },
      "source": [
        "<a href=\"https://colab.research.google.com/github/VictorLuna02012003/clases_de_python/blob/main/00_Red_Neuronal.ipynb\" target=\"_parent\"><img src=\"https://colab.research.google.com/assets/colab-badge.svg\" alt=\"Open In Colab\"/></a>"
      ]
    },
    {
      "cell_type": "code",
      "execution_count": 10,
      "metadata": {
        "id": "tuflyZ4LLgbv"
      },
      "outputs": [],
      "source": [
        "import tensorflow as tf #Nos permite trabajar con inteligencia artificial diseñada por google\n",
        "import numpy as np #Facilita el trabajo en arreglos numericos"
      ]
    },
    {
      "cell_type": "code",
      "source": [
        "#Declarar valores de entrada y salida\n",
        "celsius = np.array([-40, -10, 0, 8, 15, 22, 38], dtype=float)\n",
        "Farenheit = np.array([-40, 14, 32, 46, 59, 72, 100], dtype=float)"
      ],
      "metadata": {
        "id": "EA0TTqu4M3WS"
      },
      "execution_count": 11,
      "outputs": []
    },
    {
      "cell_type": "code",
      "source": [
        "#Capas\n",
        "#Keras facilita el trabajo con redes neuronales (Ahorra codigo)\n",
        "capa = tf.keras.layers.Dense(units=1, input_shape=[1])\n",
        "\n",
        "modelo = tf.keras.Sequential([capa])"
      ],
      "metadata": {
        "id": "mh4pcD54M7zE"
      },
      "execution_count": 13,
      "outputs": []
    },
    {
      "cell_type": "code",
      "source": [
        "#Empezar el entrenamiento\n",
        "modelo.compile(\n",
        "    #Declaramos un optimizador que nos va a dar\n",
        "    optimizer= tf.keras.optimizers.Adam(0.1),\n",
        "    #Calculo del error\n",
        "    loss = 'mean_squared_error'\n",
        ")"
      ],
      "metadata": {
        "id": "TS_20QKfNvBp"
      },
      "execution_count": 21,
      "outputs": []
    },
    {
      "cell_type": "code",
      "source": [
        "print('Comenzando el entrenamiento...')\n",
        "historial = modelo.fit(celsius,  Farenheit, epochs=1000, verbose=False)\n",
        "print('Modelo entrenando 😁👍')"
      ],
      "metadata": {
        "colab": {
          "base_uri": "https://localhost:8080/"
        },
        "id": "L3mO4zXoUpJl",
        "outputId": "ad12e123-f308-4ce3-8732-a4ab8da706ea"
      },
      "execution_count": 22,
      "outputs": [
        {
          "output_type": "stream",
          "name": "stdout",
          "text": [
            "Comenzando el entrenamiento...\n",
            "Modelo entrenando 😁👍\n"
          ]
        }
      ]
    },
    {
      "cell_type": "code",
      "source": [
        "#Vamos a graficar\n",
        "import matplotlib.pyplot as plt\n",
        "plt.xlabel('# Pasos')\n",
        "plt.ylabel('Magnitud de perdida')\n",
        "plt.plot(historial.history['loss'])"
      ],
      "metadata": {
        "colab": {
          "base_uri": "https://localhost:8080/",
          "height": 297
        },
        "id": "eIaH8gh-QDO7",
        "outputId": "69b16ff6-3861-436c-b3fc-e5e2e7a95a5d"
      },
      "execution_count": 23,
      "outputs": [
        {
          "output_type": "execute_result",
          "data": {
            "text/plain": [
              "[<matplotlib.lines.Line2D at 0x7f9c2ec4adc0>]"
            ]
          },
          "metadata": {},
          "execution_count": 23
        },
        {
          "output_type": "display_data",
          "data": {
            "text/plain": [
              "<Figure size 432x288 with 1 Axes>"
            ],
            "image/png": "[encoded data removed]"
          },
          "metadata": {
            "needs_background": "light"
          }
        }
      ]
    },
    {
      "cell_type": "code",
      "source": [
        "#Hacer una prediccion \n",
        "print('Hagamos una prediccion')\n",
        "resultado = modelo.predict([100.00])\n",
        "print(f'El resultado es {resultado}'+'Farenheit')\n"
      ],
      "metadata": {
        "colab": {
          "base_uri": "https://localhost:8080/"
        },
        "id": "88Ljt3maR_Vg",
        "outputId": "f25327a6-6e24-4f69-99c7-264227565ca6"
      },
      "execution_count": 24,
      "outputs": [
        {
          "output_type": "stream",
          "name": "stdout",
          "text": [
            "Hagamos una prediccion\n",
            "1/1 [==============================] - 0s 108ms/step\n",
            "El resultado es [[211.74399]]Farenheit\n"
          ]
        }
      ]
    },
    {
      "cell_type": "code",
      "source": [
        "#Variables asignadas \n",
        "print('Variables del modelo')\n",
        "print(capa.get_weights())"
      ],
      "metadata": {
        "colab": {
          "base_uri": "https://localhost:8080/"
        },
        "id": "JNPu_FNRSYid",
        "outputId": "7085bbce-0063-4633-8ee6-36078822676c"
      },
      "execution_count": 25,
      "outputs": [
        {
          "output_type": "stream",
          "name": "stdout",
          "text": [
            "Variables del modelo\n",
            "[array([[1.7981383]], dtype=float32), array([31.930155], dtype=float32)]\n"
          ]
        }
      ]
    }
  ]
}