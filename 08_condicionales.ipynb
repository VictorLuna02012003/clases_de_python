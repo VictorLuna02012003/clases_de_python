{
  "nbformat": 4,
  "nbformat_minor": 0,
  "metadata": {
    "colab": {
      "provenance": [],
      "authorship_tag": "ABX9TyPoYv2khmWcb61TOYzFHoSq",
      "include_colab_link": true
    },
    "kernelspec": {
      "name": "python3",
      "display_name": "Python 3"
    },
    "language_info": {
      "name": "python"
    }
  },
  "cells": [
    {
      "cell_type": "markdown",
      "metadata": {
        "id": "view-in-github",
        "colab_type": "text"
      },
      "source": [
        "<a href=\"https://colab.research.google.com/github/VictorLuna02012003/clases_de_python/blob/main/08_condicionales.ipynb\" target=\"_parent\"><img src=\"https://colab.research.google.com/assets/colab-badge.svg\" alt=\"Open In Colab\"/></a>"
      ]
    },
    {
      "cell_type": "markdown",
      "source": [
        "CONDICIONAL IF"
      ],
      "metadata": {
        "id": "G_Yd5nQIyE11"
      }
    },
    {
      "cell_type": "code",
      "source": [
        "#Sintaxis\n",
        "if condition:\n",
        "  #aqui pones lo ocurre si se cumple\n",
        "else:\n",
        "  #Aqui pones lo que ocurre si no se cumple\n",
        "\n",
        "  numero=in(input('Ingrese un numero: '))\n",
        "\n",
        "  if numero<0:\n",
        "    print(\"Es un numero negativo\")\n",
        "  else:\n",
        "    print(\"Es un numero positivo\")"
      ],
      "metadata": {
        "id": "6qwg7hu1yGs_"
      },
      "execution_count": null,
      "outputs": []
    },
    {
      "cell_type": "markdown",
      "source": [
        "IF, ELIF, ELSE: Lo utilizamos para tomar desiciones basandonos en multiples condiciones"
      ],
      "metadata": {
        "id": "kg7y5nSFy7ca"
      }
    },
    {
      "cell_type": "code",
      "source": [
        " numero=int(input('Ingresa un numero: '))\n",
        "\n",
        " if numero<0:\n",
        "    print(\"Es un numero negativo\")\n",
        "  elif numero>0:\n",
        "    print('El numero es positivo')\n",
        "  else:\n",
        "    print(\"El numero es 0\")"
      ],
      "metadata": {
        "id": "Ub6Xu9XozKIi"
      },
      "execution_count": null,
      "outputs": []
    },
    {
      "cell_type": "markdown",
      "source": [
        "ANIDACION"
      ],
      "metadata": {
        "id": "s8KZ7FDGzelq"
      }
    },
    {
      "cell_type": "code",
      "source": [
        "numero=int(input('ingresa un numero: '))\n",
        "if numero>0:\n",
        "  if numero%2==0:\n",
        "    print('El numero es positivo y par')\n",
        "  else:\n",
        "    print('El numero es positivo e impar')\n",
        "\n",
        "  elif numero == 0:\n",
        "    print('El numero es 0')\n",
        "\n",
        "  else:\n",
        "    print(\"El numero es negativo\")"
      ],
      "metadata": {
        "id": "GwmRI0fAzf8r"
      },
      "execution_count": null,
      "outputs": []
    },
    {
      "cell_type": "markdown",
      "source": [
        "CONDICIONALES Y OPERADORES LOGICOS"
      ],
      "metadata": {
        "id": "fwRIyI5I0OeF"
      }
    },
    {
      "cell_type": "code",
      "source": [
        "numero=int(input('Ingrese un numero: '))\n",
        "if numero>0 and numero%2==0:  # & o y\n",
        "  print(\"El numero es entero y par\")\n",
        "\n",
        "elif numero>0 and numero%2!=0:\n",
        "  print(\"el numero es positivo e impar\")\n",
        "\n",
        "elif numero ==0:\n",
        "  print('El numero es cero')\n",
        "\n",
        "else:\n",
        "  print('El numero es negativo')"
      ],
      "metadata": {
        "id": "h1Q1K6550SIR"
      },
      "execution_count": null,
      "outputs": []
    },
    {
      "cell_type": "code",
      "source": [
        "user = 'Alecs'\n",
        "acces_level = 3\n",
        "if user == 'admin' or acces_level >=4: # ||\n",
        "  print(\"Acceso concedido\")\n",
        "else:\n",
        "  print('Acceso denegado')"
      ],
      "metadata": {
        "colab": {
          "base_uri": "https://localhost:8080/"
        },
        "id": "Woqw6S2m1ZIX",
        "outputId": "0a761325-3f67-4ff4-e8eb-289a8d2154ca"
      },
      "execution_count": 3,
      "outputs": [
        {
          "output_type": "stream",
          "name": "stdout",
          "text": [
            "Acceso concedido\n"
          ]
        }
      ]
    }
  ]
}