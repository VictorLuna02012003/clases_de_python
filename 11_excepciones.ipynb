{
  "nbformat": 4,
  "nbformat_minor": 0,
  "metadata": {
    "colab": {
      "provenance": [],
      "authorship_tag": "ABX9TyMw+5zje0yCdwODExixxV6c",
      "include_colab_link": true
    },
    "kernelspec": {
      "name": "python3",
      "display_name": "Python 3"
    },
    "language_info": {
      "name": "python"
    }
  },
  "cells": [
    {
      "cell_type": "markdown",
      "metadata": {
        "id": "view-in-github",
        "colab_type": "text"
      },
      "source": [
        "<a href=\"https://colab.research.google.com/github/VictorLuna02012003/clases_de_python/blob/main/11_excepciones.ipynb\" target=\"_parent\"><img src=\"https://colab.research.google.com/assets/colab-badge.svg\" alt=\"Open In Colab\"/></a>"
      ]
    },
    {
      "cell_type": "code",
      "execution_count": null,
      "metadata": {
        "id": "FToxlEc8_cYe"
      },
      "outputs": [],
      "source": [
        "#sintaxis\n",
        "try:\n",
        "  rin this code\n",
        "except:\n",
        "  execute this code when  there is an error\n",
        "else:\n",
        "  without error? run this code\n",
        "finally:\n",
        "  always run this code."
      ]
    },
    {
      "cell_type": "markdown",
      "source": [
        "EJEMPLO DEL ERROR"
      ],
      "metadata": {
        "id": "2MTKlri8ACZA"
      }
    },
    {
      "cell_type": "code",
      "source": [
        "Numberone = 5\n",
        "numbertwo = 1\n",
        "numbertwo = '1'"
      ],
      "metadata": {
        "id": "QcxSz2yrAFSU"
      },
      "execution_count": 2,
      "outputs": []
    },
    {
      "cell_type": "code",
      "source": [
        "print(Numberone+numbertwo)\n",
        "#El tener un error directo en consola significa que nuestro programa ha muerto"
      ],
      "metadata": {
        "id": "XLLtH9kbAbBd"
      },
      "execution_count": null,
      "outputs": []
    },
    {
      "cell_type": "code",
      "source": [
        "#try - except\n",
        "try:\n",
        "  print(Numberone+numbertwo)\n",
        "  print('no hay ninguun error')\n",
        "except:\n",
        "  #se ejecuta si se ha producido un error\n",
        "  print('se ha producido un error')"
      ],
      "metadata": {
        "colab": {
          "base_uri": "https://localhost:8080/"
        },
        "id": "eK0BRmMDAv5j",
        "outputId": "2a588946-3dd1-4487-e86e-b1120403dfcf"
      },
      "execution_count": 4,
      "outputs": [
        {
          "output_type": "stream",
          "name": "stdout",
          "text": [
            "se ha producido un error\n"
          ]
        }
      ]
    },
    {
      "cell_type": "markdown",
      "source": [
        "Aplicando try-except-else(opcional)"
      ],
      "metadata": {
        "id": "ptwncsS6BPfr"
      }
    },
    {
      "cell_type": "code",
      "source": [
        "numberone = 1\n",
        "numbertwo = 2\n",
        "\n",
        "try:\n",
        "  print(numberone+numbertwo)\n",
        "  print('No hay ningun error')\n",
        "except:\n",
        "  print('Se ha producido un error')\n",
        "else:\n",
        "  #Se ejecuta si no se produce ninguna excepcion\n",
        "  print('La ejecucion continua correcta')"
      ],
      "metadata": {
        "id": "9r_sHEDiBT9x"
      },
      "execution_count": null,
      "outputs": []
    },
    {
      "cell_type": "code",
      "source": [
        "#Try-Except-Else(Opcional)-Finally(opcional)\n",
        "numberone = 1\n",
        "#numbertwo = 2\n",
        "numbertwo = '2'\n",
        "\n",
        "try:\n",
        "  print(numberone+numbertwo)\n",
        "  print('No hay ningun error')\n",
        "except:\n",
        "  print('Se ha producido un error')\n",
        "else:\n",
        "  #Se ejecuta si no se produce ninguna excepcion\n",
        "  print('La ejecucion continua correctamente')\n",
        "finally:\n",
        "  #Esto siempre se ejecuta\n",
        "  print('La ejecucion sigue')"
      ],
      "metadata": {
        "id": "dbfhOjEbB7v9"
      },
      "execution_count": null,
      "outputs": []
    },
    {
      "cell_type": "code",
      "source": [
        "try:\n",
        "  print(numberone+numbertwo)\n",
        "  print('no hay ningun error')\n",
        "except TypeError:\n",
        "  print('Hubo un error')\n",
        "  print('Pero ya lo arregle')\n",
        "  fixone= int(numberone)\n",
        "  fixtwo = int(numbertwo)\n",
        "  print(fixone+fixtwo)"
      ],
      "metadata": {
        "id": "fwpZJOHWCm5u"
      },
      "execution_count": null,
      "outputs": []
    },
    {
      "cell_type": "code",
      "source": [
        "#Hay muchos tipos de error\n",
        "try:\n",
        "  print(numberone+numbertwo)\n",
        "  print('No hay ningun error')\n",
        "except TypeError:    #Se puede añadir mas de un error\n",
        "  print('Se ha producido un error')\n",
        "except ValueError:\n",
        "  print('Hubo un error')"
      ],
      "metadata": {
        "id": "7sWGGabpDyBQ"
      },
      "execution_count": null,
      "outputs": []
    },
    {
      "cell_type": "code",
      "source": [
        "try:\n",
        "  print(numberone+numbertwo)\n",
        "  print('No hay ningun error')\n",
        "except TypeError:    \n",
        "  print('Se ha producido un erroTypeError')\n",
        "except ValueError:\n",
        "  print('Hubo un error de valor')"
      ],
      "metadata": {
        "id": "ecpU8JGjEQgO"
      },
      "execution_count": null,
      "outputs": []
    },
    {
      "cell_type": "code",
      "source": [
        "#CAPTURA DEL TIPO DE EXCEPCION\n",
        "numberone = 5\n",
        "numbertwo = 1\n",
        "numbertwo = '1'\n",
        "\n",
        "try:\n",
        "  print(numberone+numbertwo)\n",
        "  print('No hay ningun error')\n",
        "except TypeError as e:\n",
        "  print(e)\n",
        "\n",
        "  #Asignamos el ocurrido a una variable e imprimimos la informacion de nuestro codigo\n",
        "  #Esto funciona mayormente en VScode, trabajando en collab"
      ],
      "metadata": {
        "id": "_EupFr1FFFcZ"
      },
      "execution_count": null,
      "outputs": []
    }
  ]
}