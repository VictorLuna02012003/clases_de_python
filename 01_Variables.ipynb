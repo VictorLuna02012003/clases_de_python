{
  "nbformat": 4,
  "nbformat_minor": 0,
  "metadata": {
    "colab": {
      "provenance": [],
      "include_colab_link": true
    },
    "kernelspec": {
      "name": "python3",
      "display_name": "Python 3"
    },
    "language_info": {
      "name": "python"
    }
  },
  "cells": [
    {
      "cell_type": "markdown",
      "metadata": {
        "id": "view-in-github",
        "colab_type": "text"
      },
      "source": [
        "<a href=\"https://colab.research.google.com/github/VictorLuna02012003/clases_de_python/blob/main/01_Variables.ipynb\" target=\"_parent\"><img src=\"https://colab.research.google.com/assets/colab-badge.svg\" alt=\"Open In Colab\"/></a>"
      ]
    },
    {
      "cell_type": "markdown",
      "source": [
        "<h1>Buena praxis</h1>\n",
        "\n",
        "\n",
        "1.- Escribir todo en minuscula   \n",
        "2.- No usar numeros y caracteres especiales en las variables   \n",
        "3.- si se compone de dos palabras usar guion bajo\n",
        "\n",
        "\n",
        "\n",
        "\n"
      ],
      "metadata": {
        "id": "sxIiMt7Q6wao"
      }
    },
    {
      "cell_type": "code",
      "execution_count": null,
      "metadata": {
        "id": "jVJCi3FezwNt"
      },
      "outputs": [],
      "source": [
        "name = 'Victor Manuel'\n",
        "user_id = 1234567\n",
        "progress = 0.75\n",
        "exp = 60\n",
        "verified = True"
      ]
    },
    {
      "cell_type": "code",
      "source": [
        "xp = True\n",
        "xp = False\n",
        "\n",
        "print(xp)"
      ],
      "metadata": {
        "id": "oXmiaJS_6sTy"
      },
      "execution_count": null,
      "outputs": []
    },
    {
      "cell_type": "markdown",
      "source": [
        "<h1>Int (Entero)</h1>\n",
        "<p>Estos tipos de datos reciben numeros enteros los cuales no aceptan decimales</p>"
      ],
      "metadata": {
        "id": "GOV9kCULs4JT"
      }
    },
    {
      "cell_type": "code",
      "source": [
        "#int\n",
        "year = 2023\n",
        "age = 20"
      ],
      "metadata": {
        "id": "hEexOyjG1bdk"
      },
      "execution_count": null,
      "outputs": []
    },
    {
      "cell_type": "markdown",
      "source": [
        "<h1>float (Flotante)</h1>\n",
        "hace referencia a un valor numerico que si admite decimales"
      ],
      "metadata": {
        "id": "LCfy-fZP73kV"
      }
    },
    {
      "cell_type": "code",
      "source": [
        "#float\n",
        "pi = 3.141592\n",
        "apple_cost = 12.99"
      ],
      "metadata": {
        "id": "j3cvENmQ1lvU"
      },
      "execution_count": null,
      "outputs": []
    },
    {
      "cell_type": "markdown",
      "source": [
        "<h1>string (Caracter)</h1>\n",
        "un tipo de dato que nos permite alojar textos, estos se deben poner siempre en comillas simples o dobles:"
      ],
      "metadata": {
        "id": "vHEUgV2I8AiA"
      }
    },
    {
      "cell_type": "code",
      "source": [
        "#string\n",
        "apellido = 'Hernandez_Luna'\n",
        "saludo = 'Hola'"
      ],
      "metadata": {
        "id": "KM72Lwii1xv6"
      },
      "execution_count": null,
      "outputs": []
    },
    {
      "cell_type": "markdown",
      "source": [
        "<h1>Boolean</h1>\n",
        "estos datos solo almacenan datos de tipo verdadero o falsos"
      ],
      "metadata": {
        "id": "52wvOAxX8Qmm"
      }
    },
    {
      "cell_type": "code",
      "source": [
        "#Bool\n",
        "aprovado = True\n",
        "reprobado = False"
      ],
      "metadata": {
        "id": "AgmX31Ox2OtS"
      },
      "execution_count": null,
      "outputs": []
    },
    {
      "cell_type": "markdown",
      "source": [
        "<h1>Comentario</h1>"
      ],
      "metadata": {
        "id": "3wjXxO8Q8vZ4"
      }
    },
    {
      "cell_type": "code",
      "source": [
        "#esto es un comentario\n",
        "\n",
        "print('Hola mundo')"
      ],
      "metadata": {
        "id": "X4nP7Nhg8dFS"
      },
      "execution_count": null,
      "outputs": []
    },
    {
      "cell_type": "markdown",
      "source": [
        "<h1>Concatenación</h1>"
      ],
      "metadata": {
        "id": "rSLf1xhY3S-x"
      }
    },
    {
      "cell_type": "code",
      "source": [
        "print(name, apellido, age)\n",
        "print('Esto es un texto: ',verified)\n"
      ],
      "metadata": {
        "id": "yLmWtp2Z3LpY"
      },
      "execution_count": null,
      "outputs": []
    },
    {
      "cell_type": "markdown",
      "source": [
        "<h1>Imprimir el tipo de dato</h1>"
      ],
      "metadata": {
        "id": "Ega9O2eJ6da-"
      }
    },
    {
      "cell_type": "code",
      "source": [
        "print(type('hola mundo'))        #string\n",
        "print(type(5))                   #int\n",
        "print(type(3 + 1j))              #complex\n",
        "print(type(3.1416))              #float\n",
        "print(type([1, 2, 3]))           #lista\n",
        "print(type({name: 'Isra'}))      #diccionario\n",
        "print(type({'name':'Asabeneh'})) #diccionario"
      ],
      "metadata": {
        "id": "8bOJceYd4Bry"
      },
      "execution_count": null,
      "outputs": []
    },
    {
      "cell_type": "markdown",
      "source": [
        "<h1>variables en una sola linea</h1>"
      ],
      "metadata": {
        "id": "PRhbxt6b-Byn"
      }
    },
    {
      "cell_type": "code",
      "source": [
        "name, surname, alias, age = 'Erick', 'Borges', 'Alex', 23\n",
        "print('Me llamo:', name, surname)\n",
        "print('Mi edad es:', age, ',Mis amigos me dicen:', alias)"
      ],
      "metadata": {
        "id": "lFmCnTOK9Zj7"
      },
      "execution_count": null,
      "outputs": []
    },
    {
      "cell_type": "markdown",
      "source": [
        "<h1>Asignar valores por el usuario</h1>"
      ],
      "metadata": {
        "id": "WYvAeFHP-MRD"
      }
    },
    {
      "cell_type": "code",
      "source": [
        "fist_name = (input('Ingresa tu nombre '))\n",
        "edad = (input('Ingresa edad '))\n",
        "\n",
        "print(fist_name, edad)"
      ],
      "metadata": {
        "id": "VrWWyOou4bUQ",
        "colab": {
          "base_uri": "https://localhost:8080/"
        },
        "outputId": "45c87df6-21e6-4367-cbe7-180caa298954"
      },
      "execution_count": 7,
      "outputs": [
        {
          "output_type": "stream",
          "name": "stdout",
          "text": [
            "Ingresa tu nombreVictor Manuel\n",
            "Ingresa edad 20\n",
            "Victor Manuel 20\n"
          ]
        }
      ]
    },
    {
      "cell_type": "markdown",
      "source": [
        "<h1>Funciones del sistema</h1>"
      ],
      "metadata": {
        "id": "_zf6n74p-0Lo"
      }
    },
    {
      "cell_type": "code",
      "source": [
        "#print() = imprime en pantalla\n",
        "#type() = nos da el tipo de dato a trabajar\n",
        "#len() = contar caracteres\n",
        "#str() = transformar datos"
      ],
      "metadata": {
        "id": "qiXAWYQR6Cb2"
      },
      "execution_count": null,
      "outputs": []
    },
    {
      "cell_type": "code",
      "source": [
        "print(len(name))"
      ],
      "metadata": {
        "id": "B-a3rxZ-_AWz"
      },
      "execution_count": null,
      "outputs": []
    },
    {
      "cell_type": "code",
      "source": [
        "my_int_variable = 4\n",
        "print(my_int_variable )\n",
        "print(type(my_int_variable ))\n",
        "\n",
        "new_variable = str(my_int_variable)\n",
        "print(type(new_variable))"
      ],
      "metadata": {
        "id": "02Hc8mXT_Eq4"
      },
      "execution_count": null,
      "outputs": []
    }
  ]
}