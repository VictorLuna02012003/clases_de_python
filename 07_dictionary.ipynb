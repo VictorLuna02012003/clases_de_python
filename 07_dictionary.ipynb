{
  "nbformat": 4,
  "nbformat_minor": 0,
  "metadata": {
    "colab": {
      "provenance": [],
      "authorship_tag": "ABX9TyOnGQR+tcrLHQaPM6QEeIC4",
      "include_colab_link": true
    },
    "kernelspec": {
      "name": "python3",
      "display_name": "Python 3"
    },
    "language_info": {
      "name": "python"
    }
  },
  "cells": [
    {
      "cell_type": "markdown",
      "metadata": {
        "id": "view-in-github",
        "colab_type": "text"
      },
      "source": [
        "<a href=\"https://colab.research.google.com/github/VictorLuna02012003/clases_de_python/blob/main/07_dictionary.ipynb\" target=\"_parent\"><img src=\"https://colab.research.google.com/assets/colab-badge.svg\" alt=\"Open In Colab\"/></a>"
      ]
    },
    {
      "cell_type": "markdown",
      "source": [
        "DICCIONARIO: es una coleccion deshordenada, modificables y emparejados\n"
      ],
      "metadata": {
        "id": "WzC0M0-RsBLp"
      }
    },
    {
      "cell_type": "code",
      "source": [
        "my_dict = dict()\n",
        "other_dict = {}\n",
        "print(type(my_dict))\n",
        "print(type(other_dict))\n"
      ],
      "metadata": {
        "id": "vFfQRqMzsCee"
      },
      "execution_count": null,
      "outputs": []
    },
    {
      "cell_type": "markdown",
      "source": [
        "Una de las caracteristicas mas importantes de los diccionarios es que estan emparejados, lo cual significa que siempre se va a componer de una llave y un valor      (key:value)"
      ],
      "metadata": {
        "id": "2-1qVXrKsUfx"
      }
    },
    {
      "cell_type": "code",
      "source": [
        "person = {\n",
        "    'name': 'erick',\n",
        "    'last_name': 'borges',\n",
        "    'age': 23,\n",
        "    'skills': ['Javascript', 'React', 'Python', 'Swift'],\n",
        "    'addres': {\n",
        "        'street': 'Fco. I. Madero',\n",
        "        'telefono': 782123456\n",
        "    }\n",
        "}\n",
        "\n",
        "print(person)"
      ],
      "metadata": {
        "colab": {
          "base_uri": "https://localhost:8080/"
        },
        "id": "1BK86961sh_Y",
        "outputId": "37d2ecec-9771-4b3e-ac87-5eefbc670142"
      },
      "execution_count": 6,
      "outputs": [
        {
          "output_type": "stream",
          "name": "stdout",
          "text": [
            "{'name': 'erick', 'last_name': 'borges', 'age': 23, 'skills': ['Javascript', 'React', 'Python', 'Swift'], 'addres': {'street': 'Fco. I. Madero', 'telefono': 782123456}}\n"
          ]
        }
      ]
    },
    {
      "cell_type": "markdown",
      "source": [
        "Calcular Longitud"
      ],
      "metadata": {
        "id": "IT0rFmTptZ-C"
      }
    },
    {
      "cell_type": "code",
      "source": [
        "print(len(person))"
      ],
      "metadata": {
        "id": "jbe78xkixw17"
      },
      "execution_count": null,
      "outputs": []
    },
    {
      "cell_type": "markdown",
      "source": [
        "Acceder a los elementos"
      ],
      "metadata": {
        "id": "StKre5Epx2tT"
      }
    },
    {
      "cell_type": "code",
      "source": [
        "print(person['name'])\n",
        "print(type(person['name']))\n",
        "\n",
        "print(person['skills'])\n",
        "print(type(person['skills']))\n",
        "\n",
        "print(person['addres'])\n",
        "print(type(person['addres']))\n",
        "\n",
        "print(person.get('name'))\n",
        "print(person.get('country'))\n",
        "print(person.get('skills'))\n",
        "print(person.get('city'))\n"
      ],
      "metadata": {
        "id": "rWkka8eIt2TI"
      },
      "execution_count": null,
      "outputs": []
    },
    {
      "cell_type": "markdown",
      "source": [
        "AGREGAR NUEVOS CAMPOS"
      ],
      "metadata": {
        "id": "rlZJlbN1u37N"
      }
    },
    {
      "cell_type": "code",
      "source": [
        "print(person)\n",
        "person['country']='poza rica'\n",
        "print(person)"
      ],
      "metadata": {
        "colab": {
          "base_uri": "https://localhost:8080/"
        },
        "id": "Zvmo-1icu6DE",
        "outputId": "64dd0c94-f91d-42de-983b-108c54f838cb"
      },
      "execution_count": 2,
      "outputs": [
        {
          "output_type": "stream",
          "name": "stdout",
          "text": [
            "{'name': 'erick', 'last_name': 'borges', 'age': 23, 'skills': ['Javascript', 'React', 'Python', 'Swift'], 'addres': {'street': 'Fco. I. Madero', 'telefono': 782123456}}\n",
            "{'name': 'erick', 'last_name': 'borges', 'age': 23, 'skills': ['Javascript', 'React', 'Python', 'Swift'], 'addres': {'street': 'Fco. I. Madero', 'telefono': 782123456}, 'country': 'poza rica'}\n"
          ]
        }
      ]
    },
    {
      "cell_type": "markdown",
      "source": [
        "MODIFICAR CAMPOS"
      ],
      "metadata": {
        "id": "RtZr0zslvfWU"
      }
    },
    {
      "cell_type": "code",
      "source": [
        "print(person)\n",
        "person['name'] = 'victor'\n",
        "print(person)"
      ],
      "metadata": {
        "colab": {
          "base_uri": "https://localhost:8080/"
        },
        "id": "AdiGIE2gvioC",
        "outputId": "1ccd6d04-a1d3-4849-f93d-49d2c95706bf"
      },
      "execution_count": 4,
      "outputs": [
        {
          "output_type": "stream",
          "name": "stdout",
          "text": [
            "{'name': 'erick', 'last_name': 'borges', 'age': 23, 'skills': ['Javascript', 'React', 'Python', 'Swift'], 'addres': {'street': 'Fco. I. Madero', 'telefono': 782123456}, 'country': 'poza rica'}\n",
            "{'name': 'victor', 'last_name': 'borges', 'age': 23, 'skills': ['Javascript', 'React', 'Python', 'Swift'], 'addres': {'street': 'Fco. I. Madero', 'telefono': 782123456}, 'country': 'poza rica'}\n"
          ]
        }
      ]
    },
    {
      "cell_type": "markdown",
      "source": [
        "VERIFICAR LLAVES"
      ],
      "metadata": {
        "id": "nCfYFjiZwBK9"
      }
    },
    {
      "cell_type": "code",
      "source": [
        "print('name', in person)\n",
        "print('marital_status' in person)"
      ],
      "metadata": {
        "id": "hjBMdsYuwC82"
      },
      "execution_count": null,
      "outputs": []
    },
    {
      "cell_type": "markdown",
      "source": [
        "ANALIZAR TODAS LAS LLAVES EXISTENTES"
      ],
      "metadata": {
        "id": "7f74ybJgwQd8"
      }
    },
    {
      "cell_type": "code",
      "source": [
        "print(person.keys())"
      ],
      "metadata": {
        "id": "qPQDDBfUwU6a"
      },
      "execution_count": null,
      "outputs": []
    },
    {
      "cell_type": "markdown",
      "source": [
        "ANALIZAR TODOS LOS VALORES EXISTENTES"
      ],
      "metadata": {
        "id": "JL4HTxMXwZ_R"
      }
    },
    {
      "cell_type": "code",
      "source": [
        "print(person.keys())\n"
      ],
      "metadata": {
        "id": "dkqlC128wdd7"
      },
      "execution_count": null,
      "outputs": []
    },
    {
      "cell_type": "markdown",
      "source": [
        "ANALIZAR TODOS LOS VALORES EXISTENTES"
      ],
      "metadata": {
        "id": "vbYvrVjzwhvo"
      }
    },
    {
      "cell_type": "code",
      "source": [
        "print(person.values())"
      ],
      "metadata": {
        "id": "5B816LUmwknO"
      },
      "execution_count": null,
      "outputs": []
    }
  ]
}