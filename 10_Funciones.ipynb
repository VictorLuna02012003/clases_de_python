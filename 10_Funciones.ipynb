{
  "nbformat": 4,
  "nbformat_minor": 0,
  "metadata": {
    "colab": {
      "provenance": [],
      "authorship_tag": "ABX9TyMeNngeaInre2UUJBWxGfzb",
      "include_colab_link": true
    },
    "kernelspec": {
      "name": "python3",
      "display_name": "Python 3"
    },
    "language_info": {
      "name": "python"
    }
  },
  "cells": [
    {
      "cell_type": "markdown",
      "metadata": {
        "id": "view-in-github",
        "colab_type": "text"
      },
      "source": [
        "<a href=\"https://colab.research.google.com/github/VictorLuna02012003/clases_de_python/blob/main/10_Funciones.ipynb\" target=\"_parent\"><img src=\"https://colab.research.google.com/assets/colab-badge.svg\" alt=\"Open In Colab\"/></a>"
      ]
    },
    {
      "cell_type": "markdown",
      "source": [
        "FUNCIONES: Una funcion es un bloque de codigo rehusable, diseñado para realizar "
      ],
      "metadata": {
        "id": "_Q5LuqYu6O3X"
      }
    },
    {
      "cell_type": "code",
      "source": [
        "#Sintaxis\n",
        "def function_name():\n",
        "  code\n",
        "  code"
      ],
      "metadata": {
        "id": "WGV0EVsE6QZw"
      },
      "execution_count": null,
      "outputs": []
    },
    {
      "cell_type": "markdown",
      "source": [
        "FUNCIONES SIN PARAMETRO"
      ],
      "metadata": {
        "id": "J8nCpQPW6bZJ"
      }
    },
    {
      "cell_type": "code",
      "source": [
        "def adicion():\n",
        "  a=2\n",
        "  b=3\n",
        "  total = a+b\n",
        "  print (total)\n",
        "\n",
        "  adicion()"
      ],
      "metadata": {
        "id": "BKhY4N-S6dNZ"
      },
      "execution_count": null,
      "outputs": []
    },
    {
      "cell_type": "markdown",
      "source": [
        "RETORNAR VALORES DE UNA FUNCION NOSOTROS USAMOS LA PALABRA RETURN, SEGUIDA DE LA VARIABLE QUE VAMOS A RETORNAR"
      ],
      "metadata": {
        "id": "4VcSJZlX7L9k"
      }
    },
    {
      "cell_type": "code",
      "source": [
        "def adicion():\n",
        "  a = 2\n",
        "  b = 3\n",
        "  total = a + b\n",
        "  return total"
      ],
      "metadata": {
        "id": "OYOC2jT17qo7"
      },
      "execution_count": null,
      "outputs": []
    },
    {
      "cell_type": "markdown",
      "source": [
        "FUNCIONES CON PARAMETROS: A las funciones podemos añadirles parametros para que trabajen con valores ingresados por el usuario"
      ],
      "metadata": {
        "id": "phtMT8F48NMi"
      }
    },
    {
      "cell_type": "code",
      "source": [
        "def adicion(a,b)\n",
        "total=a+b\n",
        "return total\n",
        "\n",
        "print(adicion(1,2))"
      ],
      "metadata": {
        "id": "MZx8lMu18QLa"
      },
      "execution_count": null,
      "outputs": []
    },
    {
      "cell_type": "markdown",
      "source": [
        "ARGUMENTO DE TIPO KEY:VALUE"
      ],
      "metadata": {
        "id": "bEREWO0S9Ibm"
      }
    },
    {
      "cell_type": "code",
      "source": [
        "def person_info(name, last_name, career):\n",
        "  print(f'Hola {name} {last_name}, Gracias por escoger la carrera de {career}. Comenzemos con la seleccion.')\n",
        "  print(person_info(name= 'Victor', last_name='Hernandez Luna', career='Sistemas Computacionales')"
      ],
      "metadata": {
        "id": "EM8KH3To9MJ3"
      },
      "execution_count": null,
      "outputs": []
    },
    {
      "cell_type": "code",
      "source": [
        "#Booleanos\n",
        "def is_pair():\n",
        "  if n%2==0:\n",
        "      return True\n",
        "    return False\n",
        "\n",
        "print(is_pair(8))\n",
        "print(is_pair(5))"
      ],
      "metadata": {
        "id": "PuXbjtAH991i"
      },
      "execution_count": null,
      "outputs": []
    },
    {
      "cell_type": "code",
      "source": [
        "#Listas\n",
        "def find_pair(n):\n",
        "  pairs = []\n",
        "  for i in range(n+1):\n",
        "    if i%2 == 0:\n",
        "      pairs.append(if)\n",
        "    return pairs\n",
        "\n",
        "    print(find_pair(10))"
      ],
      "metadata": {
        "id": "27htZ-7k-a6K"
      },
      "execution_count": null,
      "outputs": []
    }
  ]
}