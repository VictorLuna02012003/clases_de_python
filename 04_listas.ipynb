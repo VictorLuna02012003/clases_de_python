{
  "nbformat": 4,
  "nbformat_minor": 0,
  "metadata": {
    "colab": {
      "provenance": [],
      "authorship_tag": "ABX9TyPfVhSK/Nv8ygc7p2Rtp7EC",
      "include_colab_link": true
    },
    "kernelspec": {
      "name": "python3",
      "display_name": "Python 3"
    },
    "language_info": {
      "name": "python"
    }
  },
  "cells": [
    {
      "cell_type": "markdown",
      "metadata": {
        "id": "view-in-github",
        "colab_type": "text"
      },
      "source": [
        "<a href=\"https://colab.research.google.com/github/VictorLuna02012003/clases_de_python/blob/main/04_listas.ipynb\" target=\"_parent\"><img src=\"https://colab.research.google.com/assets/colab-badge.svg\" alt=\"Open In Colab\"/></a>"
      ]
    },
    {
      "cell_type": "code",
      "source": [
        "my_list = list()\n",
        "other_list = []\n",
        "\n",
        "print(len(my_list))\n",
        "print(len(other_list))\n"
      ],
      "metadata": {
        "id": "ro6-wb6mwzUE"
      },
      "execution_count": null,
      "outputs": []
    },
    {
      "cell_type": "code",
      "source": [
        "my list = [4, 5, 6, 7, 8, 9]\n",
        "print(my_list)\n",
        "print(type(my_list))\n",
        "print(len(my_list))\n",
        "print(my_list[0])"
      ],
      "metadata": {
        "id": "LlE7nCyCxaeI"
      },
      "execution_count": null,
      "outputs": []
    },
    {
      "cell_type": "code",
      "source": [
        "other_list = [1, 2.5, 3, 'Victor', 'Luna']\n",
        "print(other_list)\n",
        "print(type(other_list))"
      ],
      "metadata": {
        "id": "5QEFUP24xyiO"
      },
      "execution_count": null,
      "outputs": []
    },
    {
      "cell_type": "code",
      "source": [
        "print(other_list[0])\n",
        "print(other_list[-1])\n"
      ],
      "metadata": {
        "id": "5kD55Yu5yUv0"
      },
      "execution_count": null,
      "outputs": []
    },
    {
      "cell_type": "code",
      "source": [
        "Frutas = ['banana', 'naranja', 'mango', 'limon']\n",
        "print(Frutas)\n",
        "Frutas.append('manzana')\n",
        "print(Frutas)\n",
        "Frutas.append('aguacate')\n",
        "print(Frutas)"
      ],
      "metadata": {
        "id": "JnaubGRCzUSN"
      },
      "execution_count": null,
      "outputs": []
    },
    {
      "cell_type": "markdown",
      "source": [
        "INSERTAR COMPONENTES A UNA LISTA"
      ],
      "metadata": {
        "id": "HjrFYbsGzxge"
      }
    },
    {
      "cell_type": "code",
      "source": [
        "Frutas = ['banana', 'naranja', 'mango', 'limon']\n",
        "print(Frutas)\n",
        "Frutas.insert(2,'manzana')\n",
        "print(Frutas)\n",
        "Frutas.insert(3, 'aguacate')\n",
        "print(Frutas)"
      ],
      "metadata": {
        "colab": {
          "base_uri": "https://localhost:8080/"
        },
        "id": "RqBSU3Uvz1N7",
        "outputId": "fb7240c6-eb1e-402d-e5f6-a83b67508934"
      },
      "execution_count": null,
      "outputs": [
        {
          "output_type": "stream",
          "name": "stdout",
          "text": [
            "['banana', 'naranja', 'mango', 'limon']\n",
            "['banana', 'naranja', 'manzana', 'mango', 'limon']\n",
            "['banana', 'naranja', 'manzana', 'aguacate', 'mango', 'limon']\n"
          ]
        }
      ]
    },
    {
      "cell_type": "markdown",
      "source": [
        "REMOVER COMPONENTES A UNA LISTA"
      ],
      "metadata": {
        "id": "lWE2VteU0KUb"
      }
    },
    {
      "cell_type": "code",
      "source": [
        "Frutas = ['banana', 'naranja', 'mango', 'limon', 'manzana', 'aguacate', 'manzana']\n",
        "print(Frutas)\n",
        "Frutas.remove('manzana')\n",
        "print(Frutas)\n",
        "Frutas.remove('aguacate')\n",
        "print(Frutas)"
      ],
      "metadata": {
        "colab": {
          "base_uri": "https://localhost:8080/"
        },
        "id": "ZWkDnhLx0QRT",
        "outputId": "bb0a8ada-5c90-4b97-99e1-666e51d66ca8"
      },
      "execution_count": null,
      "outputs": [
        {
          "output_type": "stream",
          "name": "stdout",
          "text": [
            "['banana', 'naranja', 'mango', 'limon', 'manzana', 'aguacate', 'manzana']\n",
            "['banana', 'naranja', 'mango', 'limon', 'aguacate', 'manzana']\n",
            "['banana', 'naranja', 'mango', 'limon', 'manzana']\n"
          ]
        }
      ]
    },
    {
      "cell_type": "markdown",
      "source": [
        "UNIR LISTAS"
      ],
      "metadata": {
        "id": "zv6x40Fi1urM"
      }
    },
    {
      "cell_type": "code",
      "source": [
        "positivos = [1, 2, 3, 4]\n",
        "cero = [0]\n",
        "negativos = [-1, -2, -3, -4]\n",
        "\n",
        "enteros = negativos + cero + positivos\n",
        "\n",
        "print(enteros)\n",
        "print(len(enteros))"
      ],
      "metadata": {
        "colab": {
          "base_uri": "https://localhost:8080/"
        },
        "id": "5usYIONS1tAd",
        "outputId": "eda30e06-94bd-4290-db73-943ed1cfb8b9"
      },
      "execution_count": null,
      "outputs": [
        {
          "output_type": "stream",
          "name": "stdout",
          "text": [
            "[-1, -2, -3, -4, 0, 1, 2, 3, 4]\n",
            "9\n"
          ]
        }
      ]
    }
  ]
}